{
 "cells": [
  {
   "cell_type": "markdown",
   "id": "4ccebb35",
   "metadata": {},
   "source": [
    "# Week 1 — PCA via SVD (Day-by-Day: Read / Watch / Do)"
   ]
  },
  {
   "cell_type": "code",
   "execution_count": 2,
   "id": "3a69f5cf",
   "metadata": {},
   "outputs": [],
   "source": [
    "import numpy as np\n",
    "import matplotlib.pyplot as plt\n",
    "np.set_printoptions(precision=4, suppress=True)\n",
    "%matplotlib inline\n",
    "rng = np.random.default_rng(0)"
   ]
  },
  {
   "cell_type": "markdown",
   "id": "e38eb1ac",
   "metadata": {},
   "source": [
    "## Day 1 — Linear algebra quick pass"
   ]
  },
  {
   "cell_type": "markdown",
   "id": "5b5ca128-9b41-4907-972a-bca0c050a777",
   "metadata": {},
   "source": [
    "## Day 1 — Vector geometry: angle & dot product"
   ]
  },
  {
   "cell_type": "code",
   "execution_count": 3,
   "id": "68745639",
   "metadata": {},
   "outputs": [
    {
     "name": "stdout",
     "output_type": "stream",
     "text": [
      "v0: ||.||1=1.003, ||.||2=0.674, ||.||inf=0.640\n",
      "v1: ||.||1=3.148, ||.||2=1.736, ||.||inf=1.304\n",
      "v2: ||.||1=2.634, ||.||2=1.577, ||.||inf=1.265\n",
      "triangle inequality: True\n"
     ]
    }
   ],
   "source": []
  },
  {
   "cell_type": "code",
   "execution_count": 3,
   "id": "b2798898-f3ad-4915-bfe7-00fda7260405",
   "metadata": {},
   "outputs": [
    {
     "name": "stdout",
     "output_type": "stream",
     "text": [
      "v0: ||.||1=1.003, ||.||2=0.674, ||.||inf=0.640\n",
      "v1: ||.||1=3.148, ||.||2=1.736, ||.||inf=1.304\n",
      "v2: ||.||1=2.634, ||.||2=1.577, ||.||inf=1.265\n",
      "triangle inequality: True\n"
     ]
    }
   ],
   "source": [
    "# Norms & triangle inequality\n",
    "X = rng.normal(size=(3, 4))\n",
    "for i, x in enumerate(X):\n",
    "    l1, l2, linf = np.sum(np.abs(x)), np.linalg.norm(x), np.max(np.abs(x))\n",
    "    print(f\"v{i}: ||.||1={l1:.3f}, ||.||2={l2:.3f}, ||.||inf={linf:.3f}\")\n",
    "x, y = X[0], X[1]\n",
    "print(\"triangle inequality:\", np.linalg.norm(x+y) <= np.linalg.norm(x)+np.linalg.norm(y))"
   ]
  },
  {
   "cell_type": "code",
   "execution_count": null,
   "id": "b64096ae",
   "metadata": {},
   "outputs": [],
   "source": [
    "# Projection onto a line P = (u u^T) / (u^T u)\n",
    "u = rng.normal(size=(4,))\n",
    "P = np.outer(u, u) / (u @ u)\n",
    "print(\"symmetric:\", np.allclose(P, P.T))\n",
    "print(\"idempotent (P^2=P):\", np.allclose(P @ P, P))\n",
    "\n",
    "x = rng.normal(size=(4,))\n",
    "x_proj = P @ x\n",
    "orth = x - (x @ u)/(u @ u) * u\n",
    "print(\"x_proj ⟂ orthogonal part:\", np.isclose(x_proj @ orth, 0, atol=1e-8))"
   ]
  },
  {
   "cell_type": "code",
   "execution_count": null,
   "id": "7e62a009",
   "metadata": {},
   "outputs": [],
   "source": [
    "# (Optional) Gram–Schmidt\n",
    "def gram_schmidt(A, eps=1e-12):\n",
    "    Q = []\n",
    "    for v in A.T:\n",
    "        w = v.astype(float)\n",
    "        for q in Q:\n",
    "            w -= q * (q @ w)\n",
    "        n = np.linalg.norm(w)\n",
    "        if n > eps:\n",
    "            Q.append(w/n)\n",
    "    return np.stack(Q, axis=1)\n",
    "\n",
    "A = rng.normal(size=(4, 2))\n",
    "Q = gram_schmidt(A)\n",
    "print(\"Q^T Q ≈ I:\", np.allclose(Q.T @ Q, np.eye(Q.shape[1])))"
   ]
  },
  {
   "cell_type": "markdown",
   "id": "7f1634f7",
   "metadata": {},
   "source": [
    "## Day 2 — SVD ↔ PCA link"
   ]
  },
  {
   "cell_type": "code",
   "execution_count": null,
   "id": "889ce785",
   "metadata": {},
   "outputs": [],
   "source": [
    "# EVR from SVD\n",
    "X = rng.normal(size=(6, 3))\n",
    "mu = X.mean(axis=0, keepdims=True)\n",
    "Xc = X - mu\n",
    "U, s, Vt = np.linalg.svd(Xc, full_matrices=False)\n",
    "V = Vt.T\n",
    "\n",
    "evr = (s**2) / (s**2).sum()\n",
    "print(\"σ:\", s)\n",
    "print(\"EVR:\", evr, \"sum:\", evr.sum())"
   ]
  },
  {
   "cell_type": "code",
   "execution_count": null,
   "id": "cf710c39",
   "metadata": {},
   "outputs": [],
   "source": [
    "# Covariance eigenvalues ≙ Σ^2/(n-1)\n",
    "Cov = (Xc.T @ Xc) / (Xc.shape[0] - 1)\n",
    "w, _ = np.linalg.eigh(Cov)\n",
    "print(\"eigvals(Cov) desc:\", w[::-1])\n",
    "print(\"Σ^2/(n-1):       \", (s**2)/(Xc.shape[0]-1))"
   ]
  },
  {
   "cell_type": "markdown",
   "id": "087540ac",
   "metadata": {},
   "source": [
    "## Day 3 — Implement PCA via SVD"
   ]
  },
  {
   "cell_type": "code",
   "execution_count": null,
   "id": "0fe2cf75",
   "metadata": {},
   "outputs": [],
   "source": [
    "# Reusable helpers\n",
    "def pca_fit_svd(X):\n",
    "    X = np.asarray(X)\n",
    "    mu = X.mean(axis=0, keepdims=True)\n",
    "    Xc = X - mu\n",
    "    U, s, Vt = np.linalg.svd(Xc, full_matrices=False)\n",
    "    V = Vt.T\n",
    "    evr = (s**2) / (s**2).sum()\n",
    "    return mu, V, s, evr\n",
    "\n",
    "def pca_transform(X, mu, V, k):\n",
    "    return (X - mu) @ V[:, :k]\n",
    "\n",
    "def pca_inverse_transform(Z, mu, V, k):\n",
    "    return Z @ V[:, :k].T + mu"
   ]
  },
  {
   "cell_type": "code",
   "execution_count": null,
   "id": "aa461d2b",
   "metadata": {},
   "outputs": [],
   "source": [
    "# 2D demo + rank-1 reconstruction\n",
    "N = 500\n",
    "stds = np.array([3.0, 0.7])\n",
    "X2 = rng.normal(size=(N,2)) * stds\n",
    "theta = np.deg2rad(35)\n",
    "R = np.array([[np.cos(theta), -np.sin(theta)],\n",
    "              [np.sin(theta),  np.cos(theta)]])\n",
    "X2 = X2 @ R.T\n",
    "\n",
    "mu2, V2, s2, evr2 = pca_fit_svd(X2)\n",
    "Z1 = pca_transform(X2, mu2, V2, 1)\n",
    "X2_hat1 = pca_inverse_transform(Z1, mu2, V2, 1)\n",
    "print(\"EVR:\", evr2, \"sum:\", evr2.sum())\n",
    "print(\"MSE k=1:\", np.mean((X2 - X2_hat1)**2))\n",
    "\n",
    "plt.figure(figsize=(5,5))\n",
    "plt.scatter(X2[:,0], X2[:,1], s=8, alpha=0.35, label='data')\n",
    "plt.scatter(X2_hat1[:,0], X2_hat1[:,1], s=8, alpha=0.35, label='recon (k=1)')\n",
    "plt.legend(); plt.axis('equal'); plt.title('Rank-1 PCA reconstruction'); plt.show()"
   ]
  },
  {
   "cell_type": "markdown",
   "id": "aa65cddf",
   "metadata": {},
   "source": [
    "## Day 4 — Evaluation & choosing k"
   ]
  },
  {
   "cell_type": "code",
   "execution_count": null,
   "id": "aa89e17b",
   "metadata": {},
   "outputs": [],
   "source": [
    "# Helper + 3D example\n",
    "def choose_k_by_threshold(evr, threshold=0.95):\n",
    "    c = np.cumsum(evr)\n",
    "    return int(np.searchsorted(c, threshold) + 1), c\n",
    "\n",
    "A = np.array([[1.0, 0.8, 0.6],\n",
    "              [0.8, 2.0, 1.1],\n",
    "              [0.6, 1.1, 1.5]])\n",
    "L = np.linalg.cholesky(A)\n",
    "X3 = rng.normal(size=(600,3)) @ L.T\n",
    "\n",
    "mu3, V3, s3, evr3 = pca_fit_svd(X3)\n",
    "k95, cum = choose_k_by_threshold(evr3, 0.95)\n",
    "print(\"k for 95% EV:\", k95)"
   ]
  },
  {
   "cell_type": "code",
   "execution_count": null,
   "id": "de7ed7ce",
   "metadata": {},
   "outputs": [],
   "source": [
    "# Cumulative EV plot\n",
    "plt.figure(figsize=(5,4))\n",
    "plt.plot(np.arange(1, len(evr3)+1), cum, marker='o')\n",
    "plt.axhline(0.95, linestyle='--')\n",
    "plt.xlabel('k'); plt.ylabel('cumulative EV'); plt.title('Cumulative explained variance')\n",
    "plt.show()"
   ]
  },
  {
   "cell_type": "code",
   "execution_count": null,
   "id": "c0a43657",
   "metadata": {},
   "outputs": [],
   "source": [
    "# Reconstruction error vs k\n",
    "mses = []\n",
    "for k in range(1, X3.shape[1]+1):\n",
    "    Zk = pca_transform(X3, mu3, V3, k)\n",
    "    Xhat = pca_inverse_transform(Zk, mu3, V3, k)\n",
    "    mses.append(np.mean((X3 - Xhat)**2))\n",
    "\n",
    "plt.figure(figsize=(5,4))\n",
    "plt.plot(range(1, len(mses)+1), mses, marker='o')\n",
    "plt.xlabel('k'); plt.ylabel('MSE'); plt.title('Reconstruction error vs k')\n",
    "plt.show()"
   ]
  },
  {
   "cell_type": "markdown",
   "id": "19545c27",
   "metadata": {},
   "source": [
    "## Day 5 — Whitening & eigen route"
   ]
  },
  {
   "cell_type": "code",
   "execution_count": null,
   "id": "674f067d",
   "metadata": {},
   "outputs": [],
   "source": [
    "# Whitening check\n",
    "def pca_whiten(Z, s, k, eps=1e-6):\n",
    "    return Z / (s[:k] + eps)\n",
    "\n",
    "k = 2\n",
    "Z = pca_transform(X3, mu3, V3, k)\n",
    "Zw = pca_whiten(Z, s3, k)\n",
    "print(\"Cov(Z):\\n\", np.cov(Z.T))\n",
    "print(\"Cov(Z whitened):\\n\", np.cov(Zw.T))"
   ]
  },
  {
   "cell_type": "code",
   "execution_count": null,
   "id": "6cbfe3e5",
   "metadata": {},
   "outputs": [],
   "source": [
    "# Covariance eigen-decomposition PCA (compare to SVD)\n",
    "def pca_fit_eig(X):\n",
    "    X = np.asarray(X)\n",
    "    mu = X.mean(axis=0, keepdims=True)\n",
    "    Xc = X - mu\n",
    "    C = (Xc.T @ Xc) / (X.shape[0] - 1)\n",
    "    w, V = np.linalg.eigh(C)           # ascending\n",
    "    idx = np.argsort(w)[::-1]          # descending\n",
    "    w, V = w[idx], V[:, idx]\n",
    "    s = np.sqrt(w * (X.shape[0] - 1))  # singular values\n",
    "    evr = w / w.sum()\n",
    "    return mu, V, s, evr\n",
    "\n",
    "mu_e, V_e, s_e, evr_e = pca_fit_eig(X3)\n",
    "print(\"EVR match:\", np.allclose(evr3, evr_e))\n",
    "print(\"Principal directions align (abs diag V^T V_e):\", np.abs(np.diag(V3.T @ V_e)))"
   ]
  }
 ],
 "metadata": {
  "kernelspec": {
   "display_name": "Python 3 (ipykernel)",
   "language": "python",
   "name": "python3"
  },
  "language_info": {
   "codemirror_mode": {
    "name": "ipython",
    "version": 3
   },
   "file_extension": ".py",
   "mimetype": "text/x-python",
   "name": "python",
   "nbconvert_exporter": "python",
   "pygments_lexer": "ipython3",
   "version": "3.11.12"
  }
 },
 "nbformat": 4,
 "nbformat_minor": 5
}
